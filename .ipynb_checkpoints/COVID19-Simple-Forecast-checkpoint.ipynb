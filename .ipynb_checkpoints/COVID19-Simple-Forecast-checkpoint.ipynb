{
 "cells": [
  {
   "cell_type": "code",
   "execution_count": 1,
   "metadata": {},
   "outputs": [],
   "source": [
    "import pandas as pd\n",
    "import numpy as np\n",
    "import matplotlib.pyplot as plt\n",
    "import random"
   ]
  },
  {
   "cell_type": "markdown",
   "metadata": {},
   "source": [
    "## Loading Data (Source: JHU)"
   ]
  },
  {
   "cell_type": "code",
   "execution_count": 2,
   "metadata": {},
   "outputs": [],
   "source": [
    "confirmed_df  = pd.read_csv('https://raw.githubusercontent.com/CSSEGISandData/COVID-19/master/csse_covid_19_data/csse_covid_19_time_series/time_series_covid19_confirmed_global.csv')\n",
    "\n",
    "#recoveries_df = pd.read_csv('https://raw.githubusercontent.com/CSSEGISandData/COVID-19/master/csse_covid_19_data/csse_covid_19_time_series/time_series_covid19_recovered_global.csv')"
   ]
  },
  {
   "cell_type": "code",
   "execution_count": 3,
   "metadata": {},
   "outputs": [
    {
     "data": {
      "text/html": [
       "<div>\n",
       "<style scoped>\n",
       "    .dataframe tbody tr th:only-of-type {\n",
       "        vertical-align: middle;\n",
       "    }\n",
       "\n",
       "    .dataframe tbody tr th {\n",
       "        vertical-align: top;\n",
       "    }\n",
       "\n",
       "    .dataframe thead th {\n",
       "        text-align: right;\n",
       "    }\n",
       "</style>\n",
       "<table border=\"1\" class=\"dataframe\">\n",
       "  <thead>\n",
       "    <tr style=\"text-align: right;\">\n",
       "      <th></th>\n",
       "      <th>Province/State</th>\n",
       "      <th>Country/Region</th>\n",
       "      <th>Lat</th>\n",
       "      <th>Long</th>\n",
       "      <th>1/22/20</th>\n",
       "      <th>1/23/20</th>\n",
       "      <th>1/24/20</th>\n",
       "      <th>1/25/20</th>\n",
       "      <th>1/26/20</th>\n",
       "      <th>1/27/20</th>\n",
       "      <th>...</th>\n",
       "      <th>5/4/20</th>\n",
       "      <th>5/5/20</th>\n",
       "      <th>5/6/20</th>\n",
       "      <th>5/7/20</th>\n",
       "      <th>5/8/20</th>\n",
       "      <th>5/9/20</th>\n",
       "      <th>5/10/20</th>\n",
       "      <th>5/11/20</th>\n",
       "      <th>5/12/20</th>\n",
       "      <th>5/13/20</th>\n",
       "    </tr>\n",
       "  </thead>\n",
       "  <tbody>\n",
       "    <tr>\n",
       "      <th>0</th>\n",
       "      <td>NaN</td>\n",
       "      <td>Afghanistan</td>\n",
       "      <td>33.0000</td>\n",
       "      <td>65.0000</td>\n",
       "      <td>0</td>\n",
       "      <td>0</td>\n",
       "      <td>0</td>\n",
       "      <td>0</td>\n",
       "      <td>0</td>\n",
       "      <td>0</td>\n",
       "      <td>...</td>\n",
       "      <td>2894</td>\n",
       "      <td>3224</td>\n",
       "      <td>3392</td>\n",
       "      <td>3563</td>\n",
       "      <td>3778</td>\n",
       "      <td>4033</td>\n",
       "      <td>4402</td>\n",
       "      <td>4687</td>\n",
       "      <td>4963</td>\n",
       "      <td>5226</td>\n",
       "    </tr>\n",
       "    <tr>\n",
       "      <th>1</th>\n",
       "      <td>NaN</td>\n",
       "      <td>Albania</td>\n",
       "      <td>41.1533</td>\n",
       "      <td>20.1683</td>\n",
       "      <td>0</td>\n",
       "      <td>0</td>\n",
       "      <td>0</td>\n",
       "      <td>0</td>\n",
       "      <td>0</td>\n",
       "      <td>0</td>\n",
       "      <td>...</td>\n",
       "      <td>803</td>\n",
       "      <td>820</td>\n",
       "      <td>832</td>\n",
       "      <td>842</td>\n",
       "      <td>850</td>\n",
       "      <td>856</td>\n",
       "      <td>868</td>\n",
       "      <td>872</td>\n",
       "      <td>876</td>\n",
       "      <td>880</td>\n",
       "    </tr>\n",
       "    <tr>\n",
       "      <th>2</th>\n",
       "      <td>NaN</td>\n",
       "      <td>Algeria</td>\n",
       "      <td>28.0339</td>\n",
       "      <td>1.6596</td>\n",
       "      <td>0</td>\n",
       "      <td>0</td>\n",
       "      <td>0</td>\n",
       "      <td>0</td>\n",
       "      <td>0</td>\n",
       "      <td>0</td>\n",
       "      <td>...</td>\n",
       "      <td>4648</td>\n",
       "      <td>4838</td>\n",
       "      <td>4997</td>\n",
       "      <td>5182</td>\n",
       "      <td>5369</td>\n",
       "      <td>5558</td>\n",
       "      <td>5723</td>\n",
       "      <td>5891</td>\n",
       "      <td>6067</td>\n",
       "      <td>6253</td>\n",
       "    </tr>\n",
       "    <tr>\n",
       "      <th>3</th>\n",
       "      <td>NaN</td>\n",
       "      <td>Andorra</td>\n",
       "      <td>42.5063</td>\n",
       "      <td>1.5218</td>\n",
       "      <td>0</td>\n",
       "      <td>0</td>\n",
       "      <td>0</td>\n",
       "      <td>0</td>\n",
       "      <td>0</td>\n",
       "      <td>0</td>\n",
       "      <td>...</td>\n",
       "      <td>750</td>\n",
       "      <td>751</td>\n",
       "      <td>751</td>\n",
       "      <td>752</td>\n",
       "      <td>752</td>\n",
       "      <td>754</td>\n",
       "      <td>755</td>\n",
       "      <td>755</td>\n",
       "      <td>758</td>\n",
       "      <td>760</td>\n",
       "    </tr>\n",
       "    <tr>\n",
       "      <th>4</th>\n",
       "      <td>NaN</td>\n",
       "      <td>Angola</td>\n",
       "      <td>-11.2027</td>\n",
       "      <td>17.8739</td>\n",
       "      <td>0</td>\n",
       "      <td>0</td>\n",
       "      <td>0</td>\n",
       "      <td>0</td>\n",
       "      <td>0</td>\n",
       "      <td>0</td>\n",
       "      <td>...</td>\n",
       "      <td>35</td>\n",
       "      <td>36</td>\n",
       "      <td>36</td>\n",
       "      <td>36</td>\n",
       "      <td>43</td>\n",
       "      <td>43</td>\n",
       "      <td>45</td>\n",
       "      <td>45</td>\n",
       "      <td>45</td>\n",
       "      <td>45</td>\n",
       "    </tr>\n",
       "  </tbody>\n",
       "</table>\n",
       "<p>5 rows × 117 columns</p>\n",
       "</div>"
      ],
      "text/plain": [
       "  Province/State Country/Region      Lat     Long  1/22/20  1/23/20  1/24/20  \\\n",
       "0            NaN    Afghanistan  33.0000  65.0000        0        0        0   \n",
       "1            NaN        Albania  41.1533  20.1683        0        0        0   \n",
       "2            NaN        Algeria  28.0339   1.6596        0        0        0   \n",
       "3            NaN        Andorra  42.5063   1.5218        0        0        0   \n",
       "4            NaN         Angola -11.2027  17.8739        0        0        0   \n",
       "\n",
       "   1/25/20  1/26/20  1/27/20  ...  5/4/20  5/5/20  5/6/20  5/7/20  5/8/20  \\\n",
       "0        0        0        0  ...    2894    3224    3392    3563    3778   \n",
       "1        0        0        0  ...     803     820     832     842     850   \n",
       "2        0        0        0  ...    4648    4838    4997    5182    5369   \n",
       "3        0        0        0  ...     750     751     751     752     752   \n",
       "4        0        0        0  ...      35      36      36      36      43   \n",
       "\n",
       "   5/9/20  5/10/20  5/11/20  5/12/20  5/13/20  \n",
       "0    4033     4402     4687     4963     5226  \n",
       "1     856      868      872      876      880  \n",
       "2    5558     5723     5891     6067     6253  \n",
       "3     754      755      755      758      760  \n",
       "4      43       45       45       45       45  \n",
       "\n",
       "[5 rows x 117 columns]"
      ]
     },
     "execution_count": 3,
     "metadata": {},
     "output_type": "execute_result"
    }
   ],
   "source": [
    "confirmed_df.head()"
   ]
  },
  {
   "cell_type": "code",
   "execution_count": 4,
   "metadata": {},
   "outputs": [
    {
     "ename": "NameError",
     "evalue": "name 'deaths_df' is not defined",
     "output_type": "error",
     "traceback": [
      "\u001b[0;31m---------------------------------------------------------------------------\u001b[0m",
      "\u001b[0;31mNameError\u001b[0m                                 Traceback (most recent call last)",
      "\u001b[0;32m<ipython-input-4-1ac8d6a2c55c>\u001b[0m in \u001b[0;36m<module>\u001b[0;34m\u001b[0m\n\u001b[1;32m      2\u001b[0m \u001b[0;34m\u001b[0m\u001b[0m\n\u001b[1;32m      3\u001b[0m \u001b[0mconfirmed\u001b[0m  \u001b[0;34m=\u001b[0m \u001b[0mconfirmed_df\u001b[0m\u001b[0;34m.\u001b[0m\u001b[0mloc\u001b[0m\u001b[0;34m[\u001b[0m\u001b[0;34m:\u001b[0m\u001b[0;34m,\u001b[0m \u001b[0mcols\u001b[0m\u001b[0;34m[\u001b[0m\u001b[0;36m4\u001b[0m\u001b[0;34m]\u001b[0m\u001b[0;34m:\u001b[0m\u001b[0;34m]\u001b[0m\u001b[0;34m\u001b[0m\u001b[0;34m\u001b[0m\u001b[0m\n\u001b[0;32m----> 4\u001b[0;31m \u001b[0mdeaths\u001b[0m     \u001b[0;34m=\u001b[0m \u001b[0mdeaths_df\u001b[0m\u001b[0;34m.\u001b[0m\u001b[0mloc\u001b[0m\u001b[0;34m[\u001b[0m\u001b[0;34m:\u001b[0m\u001b[0;34m,\u001b[0m \u001b[0mcols\u001b[0m\u001b[0;34m[\u001b[0m\u001b[0;36m4\u001b[0m\u001b[0;34m]\u001b[0m\u001b[0;34m:\u001b[0m\u001b[0;34m]\u001b[0m\u001b[0;34m\u001b[0m\u001b[0;34m\u001b[0m\u001b[0m\n\u001b[0m\u001b[1;32m      5\u001b[0m \u001b[0mrecoveries\u001b[0m \u001b[0;34m=\u001b[0m \u001b[0mrecoveries_df\u001b[0m\u001b[0;34m.\u001b[0m\u001b[0mloc\u001b[0m\u001b[0;34m[\u001b[0m\u001b[0;34m:\u001b[0m\u001b[0;34m,\u001b[0m \u001b[0mcols\u001b[0m\u001b[0;34m[\u001b[0m\u001b[0;36m4\u001b[0m\u001b[0;34m]\u001b[0m\u001b[0;34m:\u001b[0m\u001b[0;34m]\u001b[0m\u001b[0;34m\u001b[0m\u001b[0;34m\u001b[0m\u001b[0m\n\u001b[1;32m      6\u001b[0m \u001b[0;34m\u001b[0m\u001b[0m\n",
      "\u001b[0;31mNameError\u001b[0m: name 'deaths_df' is not defined"
     ]
    }
   ],
   "source": [
    "cols = confirmed_df.keys()\n",
    "\n",
    "confirmed  = confirmed_df.loc[:, cols[4]:]\n",
    "confirmed.head()"
   ]
  },
  {
   "cell_type": "code",
   "execution_count": null,
   "metadata": {},
   "outputs": [],
   "source": [
    "def get_data(country):\n",
    "    cases = [confirmed_df[confirmed_df['Country/Region']==country][i].sum() for i in dates]\n",
    "    daily_increase = pd.Series(cases).diff().tolist()\n",
    "    deaths = [deaths_df[deaths_df['Country/Region']==country][i].sum() for i in dates]\n",
    "    daily_death = pd.Series(deaths).diff().tolist()\n",
    "    recoveries  = [recoveries_df[recoveries_df['Country/Region']==country][i].sum() for i in dates]\n",
    "    daily_recovery = pd.Series(recoveries).diff().tolist()\n",
    "    return (cases, deaths, recoveries, daily_increase, daily_death, daily_recovery)\n",
    "\n",
    "def country_plot(x, y1, y2, y3, y4, country):\n",
    "    plt.figure(figsize=(16, 9))\n",
    "    plt.plot(x, y1, linewidth=4)\n",
    "    plt.title('{} Confirmed Cases'.format(country), size=30)\n",
    "    plt.ylabel('# of Cases', size=30)\n",
    "    plt.xticks(size=10)\n",
    "    plt.xticks(rotation=90)\n",
    "    plt.yticks(size=20)\n",
    "    plt.grid(axis='y')\n",
    "    plt.show()\n",
    "\n",
    "    plt.figure(figsize=(16, 9))\n",
    "    plt.bar(x, y2)\n",
    "    plt.title('{} Daily Increases in Confirmed Cases'.format(country), size=30)\n",
    "    plt.ylabel('# of Cases', size=30)\n",
    "    plt.xticks(size=10)\n",
    "    plt.xticks(rotation=90)\n",
    "    plt.yticks(size=20)\n",
    "    plt.grid(axis='y')\n",
    "    plt.show()\n",
    "\n",
    "    plt.figure(figsize=(16, 9))\n",
    "    plt.bar(x, y3, color='darkgoldenrod')\n",
    "    plt.title('{} Daily Increases in Deaths'.format(country), size=30)\n",
    "    plt.ylabel('# of Cases', size=30)\n",
    "    plt.xticks(size=10)\n",
    "    plt.xticks(rotation=90)\n",
    "    plt.yticks(size=20)\n",
    "    plt.grid(axis='y')\n",
    "    plt.show()\n",
    "\n",
    "    plt.figure(figsize=(16, 9))\n",
    "    plt.bar(x, y4, color='green')\n",
    "    plt.title('{} Daily Increases in Recoveries'.format(country), size=30)\n",
    "    plt.ylabel('# of Cases', size=30)\n",
    "    plt.xticks(size=10)\n",
    "    plt.xticks(rotation=90)\n",
    "    plt.yticks(size=20)\n",
    "    plt.grid(axis='y')\n",
    "    plt.show()"
   ]
  },
  {
   "cell_type": "code",
   "execution_count": null,
   "metadata": {
    "scrolled": false
   },
   "outputs": [],
   "source": [
    "dates = confirmed.keys()\n",
    "country = 'Philippines'\n",
    "philippine_cases, philippine_deaths, philippine_recoveries, daily_increase, daily_death,daily_recovery = get_data(country)\n",
    "country_plot(dates, philippine_cases, daily_increase, daily_death, daily_recovery, country)"
   ]
  },
  {
   "cell_type": "code",
   "execution_count": null,
   "metadata": {
    "scrolled": false
   },
   "outputs": [],
   "source": [
    "np.c_[np.array(range(1,len(dates)+1)), dates, philippine_cases]"
   ]
  },
  {
   "cell_type": "markdown",
   "metadata": {},
   "source": [
    "## 1. LINEAR REGRESSION: Training on the Whole Data until May 11, 2020"
   ]
  },
  {
   "cell_type": "code",
   "execution_count": null,
   "metadata": {},
   "outputs": [],
   "source": [
    "from sklearn.linear_model import LinearRegression\n",
    "\n",
    "lin_model = LinearRegression()\n",
    "X = np.linspace(1, len(dates), len(dates)).reshape(-1, 1)\n",
    "y = np.array(philippine_cases)\n",
    "\n",
    "lin_model.fit(X, y)\n",
    "\n",
    "def plot_linear():\n",
    "    plt.figure(figsize=(14,8))\n",
    "    plt.scatter(X, y, color='black')\n",
    "    plt.plot(X, lin_model.predict(X), color='red', linewidth=4)\n",
    "    plt.title( 'Linear Approximation' )\n",
    "    plt.xlabel('Days starting: 1/22/20')\n",
    "    plt.ylabel('PH COVID-19 Cases')\n",
    "    plt.show()\n",
    "    return\n",
    "\n",
    "plot_linear()"
   ]
  },
  {
   "cell_type": "markdown",
   "metadata": {},
   "source": [
    "## 2. Polynomial: Training on the Whole Data until May 11, 2020"
   ]
  },
  {
   "cell_type": "code",
   "execution_count": null,
   "metadata": {},
   "outputs": [],
   "source": [
    "from sklearn.preprocessing import PolynomialFeatures\n",
    "\n",
    "poly_reg  = PolynomialFeatures(degree=2)\n",
    "X_poly    = poly_reg.fit_transform(X)\n",
    "pol_model = LinearRegression()\n",
    "\n",
    "pol_model.fit(X_poly, y)\n",
    "\n",
    "pol_predictions = pol_model.predict(poly_reg.fit_transform(X))\n",
    " \n",
    "def plot_polymonial(predictions):\n",
    "    plt.figure(figsize=(14,8))\n",
    "    plt.scatter(X, y, color='black')\n",
    "    plt.plot(X, predictions, color='red', linewidth=4)\n",
    "    plt.title('Polynomial Approximation')\n",
    "    plt.xlabel('Days starting: 1/22/20')\n",
    "    plt.ylabel('PH Covid-19 Cases')\n",
    "    plt.show()\n",
    "    return\n",
    "\n",
    "\n",
    "plot_polymonial(pol_predictions)"
   ]
  },
  {
   "cell_type": "markdown",
   "metadata": {},
   "source": [
    "## 3. Training on Partial Data until April 30, 2020"
   ]
  },
  {
   "cell_type": "code",
   "execution_count": null,
   "metadata": {},
   "outputs": [],
   "source": [
    "np.c_[dates[:100], philippine_cases[:100]]"
   ]
  },
  {
   "cell_type": "code",
   "execution_count": null,
   "metadata": {},
   "outputs": [],
   "source": [
    "lin_partial = LinearRegression()\n",
    "lin_partial.fit(X[:100], y[:100])\n",
    "lin_predictions = lin_partial.predict(X)\n",
    "\n",
    "def plot_linear(predictions):\n",
    "    plt.figure(figsize=(14,8))\n",
    "    plt.scatter(X, y, color='black')\n",
    "    plt.plot(X, predictions, color='red', linewidth=4)\n",
    "    plt.title( 'Linear Approximation' )\n",
    "    plt.xlabel('Days starting: 1/22/20')\n",
    "    plt.ylabel('PH COVID-19 Cases')\n",
    "    plt.show()\n",
    "    return\n",
    "\n",
    "plot_linear(lin_predictions)"
   ]
  },
  {
   "cell_type": "markdown",
   "metadata": {},
   "source": [
    "## 4. Linear Predictions (Cases Forecast)"
   ]
  },
  {
   "cell_type": "code",
   "execution_count": null,
   "metadata": {},
   "outputs": [],
   "source": [
    "print('       Date ', 'Actual_Cases', 'Predictions')\n",
    "np.c_[dates[100:], philippine_cases[100:], np.ceil(lin_predictions[100:])]"
   ]
  },
  {
   "cell_type": "markdown",
   "metadata": {},
   "source": [
    "### DATE: '5/9/20', ACTUAL: 10610, LINEAR PREDICTION: 6217"
   ]
  },
  {
   "cell_type": "code",
   "execution_count": null,
   "metadata": {},
   "outputs": [],
   "source": [
    "poly_reg    = PolynomialFeatures(degree=2)\n",
    "X_poly      = poly_reg.fit_transform(X[:100])\n",
    "pol_partial = LinearRegression()\n",
    "\n",
    "pol_partial.fit(X_poly, y[:100])\n",
    "\n",
    "pol_predictions = pol_partial.predict(poly_reg.fit_transform(X))\n",
    " \n",
    "plot_polymonial(pol_predictions)"
   ]
  },
  {
   "cell_type": "code",
   "execution_count": null,
   "metadata": {},
   "outputs": [],
   "source": [
    "print('       Date ', 'Actual_Cases', 'Predictions')\n",
    "np.c_[dates[100:], philippine_cases[100:], np.ceil(pol_predictions[100:])]"
   ]
  },
  {
   "cell_type": "markdown",
   "metadata": {},
   "source": [
    "### DATE: '5/9/20', ACTUAL: 10610, PREDICTION: 10968  (NOT BAD FOR 2nd DEGREE POLYNOMIAL)"
   ]
  },
  {
   "cell_type": "code",
   "execution_count": null,
   "metadata": {},
   "outputs": [],
   "source": [
    "poly_reg    = PolynomialFeatures(degree=4)\n",
    "X_poly      = poly_reg.fit_transform(X[:100])\n",
    "pol_partial = LinearRegression()\n",
    "\n",
    "pol_partial.fit(X_poly, y[:100])\n",
    "\n",
    "pol_predictions = pol_partial.predict(poly_reg.fit_transform(X))\n",
    " \n",
    "plot_polymonial(pol_predictions)"
   ]
  },
  {
   "cell_type": "code",
   "execution_count": null,
   "metadata": {},
   "outputs": [],
   "source": [
    "print('       Date ', 'Actual_Cases', 'Predictions')\n",
    "np.c_[dates[100:], philippine_cases[100:], np.ceil(pol_predictions[100:])]"
   ]
  },
  {
   "cell_type": "markdown",
   "metadata": {},
   "source": [
    "### DATE: '5/9/20', ACTUAL: 10610, PREDICTION: 10310  (NOT BAD FOR 4th DEGREE POLYNOMIAL)"
   ]
  },
  {
   "cell_type": "markdown",
   "metadata": {},
   "source": [
    "## 5. BUT What if I USED THE OLD DATA UNTIL APRIL 8 ONLY ???"
   ]
  },
  {
   "cell_type": "code",
   "execution_count": null,
   "metadata": {},
   "outputs": [],
   "source": [
    "np.c_[dates[:78], philippine_cases[:78]]"
   ]
  },
  {
   "cell_type": "code",
   "execution_count": null,
   "metadata": {},
   "outputs": [],
   "source": [
    "poly_reg    = PolynomialFeatures(degree=2)\n",
    "X_poly      = poly_reg.fit_transform(X[:78])\n",
    "\n",
    "pol_partial = LinearRegression()\n",
    "pol_partial.fit(X_poly, y[:78])\n",
    "pol_predictions = pol_partial.predict(poly_reg.fit_transform(X))\n",
    "\n",
    "plot_polymonial(pol_predictions)"
   ]
  },
  {
   "cell_type": "code",
   "execution_count": null,
   "metadata": {},
   "outputs": [],
   "source": [
    "print('       Date ', 'Actual_Cases', 'Predictions')\n",
    "np.c_[dates[78:], philippine_cases[78:], np.ceil(pol_predictions[78:])]"
   ]
  },
  {
   "cell_type": "markdown",
   "metadata": {},
   "source": [
    "### DATE: '5/9/20', ACTUAL: 10610, PREDICTION: 8310  (BAD PREDICTION)"
   ]
  },
  {
   "cell_type": "markdown",
   "metadata": {},
   "source": [
    "## 6. How about selected data that are linear?"
   ]
  },
  {
   "cell_type": "code",
   "execution_count": null,
   "metadata": {
    "scrolled": false
   },
   "outputs": [],
   "source": [
    "lin_partial = LinearRegression()\n",
    "lin_partial.fit(X[65:100], y[65:100])\n",
    "lin_predictions = lin_partial.predict(X[65:])\n",
    "\n",
    "def plot_linear(predictions):\n",
    "    plt.figure(figsize=(14,8))\n",
    "    plt.scatter(X[65:], y[65:], color='black')\n",
    "    plt.plot(X[65:], predictions, color='red', linewidth=4)\n",
    "    plt.title( 'Linear Approximation' )\n",
    "    plt.xlabel('Day 65 from 1/22/20 or Starting from 3/27/20')\n",
    "    plt.ylabel('PH COVID-19 Cases')\n",
    "    plt.show()\n",
    "    return\n",
    "\n",
    "plot_linear(lin_predictions)"
   ]
  },
  {
   "cell_type": "code",
   "execution_count": null,
   "metadata": {},
   "outputs": [],
   "source": [
    "print('       Date ', 'Actual_Cases', 'Predictions')\n",
    "np.c_[dates[65:], philippine_cases[65:], np.ceil(lin_predictions)]"
   ]
  },
  {
   "cell_type": "markdown",
   "metadata": {},
   "source": [
    "### DATE: '5/9/20', ACTUAL: 10610, PREDICTION: 10486  (GOOD PREDICTION!)"
   ]
  },
  {
   "cell_type": "markdown",
   "metadata": {},
   "source": [
    "## 7. Support Vector Regression (https://scikit-learn.org/stable/modules/generated/sklearn.svm.SVR.html)"
   ]
  },
  {
   "cell_type": "code",
   "execution_count": null,
   "metadata": {
    "scrolled": false
   },
   "outputs": [],
   "source": [
    "from sklearn.svm import SVR\n",
    "\n",
    "svm_model = SVR(shrinking=True, kernel='poly',gamma=0.01, epsilon=1,degree=3, C=0.1)\n",
    "svm_model.fit(X[:100], y[:100])\n",
    "svm_predictions = svm_model.predict(X)\n",
    "\n",
    "\n",
    "def plot_linear(predictions):\n",
    "    plt.figure(figsize=(14,8))\n",
    "    plt.scatter(X, y, color='black')\n",
    "    plt.plot(X, predictions, color='red', linewidth=4)\n",
    "    plt.title( 'SVM Regression (Train data: Until April 30, 2020 ONLY)')\n",
    "    plt.xlabel('Days from 1/22/20')\n",
    "    plt.ylabel('PH COVID-19 Cases')\n",
    "    plt.show()\n",
    "    return\n",
    "\n",
    "\n",
    "plot_linear(svm_predictions)"
   ]
  },
  {
   "cell_type": "code",
   "execution_count": null,
   "metadata": {},
   "outputs": [],
   "source": [
    "print('       Date ', 'Actual_Cases', 'Predictions')\n",
    "np.c_[dates[100:], philippine_cases[100:], np.ceil(svm_predictions[100:])]"
   ]
  },
  {
   "cell_type": "markdown",
   "metadata": {},
   "source": [
    "## 8. Multi-layer Perceptron regressor (https://scikit-learn.org/stable/modules/generated/sklearn.neural_network.MLPRegressor.html)"
   ]
  },
  {
   "cell_type": "code",
   "execution_count": null,
   "metadata": {},
   "outputs": [],
   "source": [
    "from sklearn.neural_network import MLPRegressor\n",
    "\n",
    "\n",
    "mlp_model = MLPRegressor(solver='lbfgs', hidden_layer_sizes=50, max_iter=1000,\n",
    "                    learning_rate='adaptive', random_state=np.random.seed(23))\n",
    "mlp_model.fit(X[:100], y[:100])\n",
    "mlp_predictions = mlp_model.predict(X)\n",
    "\n",
    "\n",
    "plt.figure(figsize=(14,8))\n",
    "plt.scatter(X, y, color='black', label= 'Actual Data')\n",
    "plt.plot(X, mlp_predictions, 'r-', linewidth=3, label = 'Prediction')\n",
    "plt.title( 'MLP Regression (Train data: Until April 30, 2020 ONLY)' )\n",
    "plt.xlabel('Days from 1/22/20')\n",
    "plt.ylabel('PH COVID-19 Cases')\n",
    "plt.legend()\n",
    "plt.show()\n"
   ]
  },
  {
   "cell_type": "code",
   "execution_count": null,
   "metadata": {},
   "outputs": [],
   "source": [
    "print('       Date ', 'Actual_Cases', 'Predictions')\n",
    "np.c_[dates[100:], philippine_cases[100:], np.ceil(mlp_predictions[100:])]"
   ]
  },
  {
   "cell_type": "raw",
   "metadata": {},
   "source": [
    "- mkc2020"
   ]
  }
 ],
 "metadata": {
  "kernelspec": {
   "display_name": "Python 3",
   "language": "python",
   "name": "python3"
  },
  "language_info": {
   "codemirror_mode": {
    "name": "ipython",
    "version": 3
   },
   "file_extension": ".py",
   "mimetype": "text/x-python",
   "name": "python",
   "nbconvert_exporter": "python",
   "pygments_lexer": "ipython3",
   "version": "3.7.6"
  }
 },
 "nbformat": 4,
 "nbformat_minor": 4
}
