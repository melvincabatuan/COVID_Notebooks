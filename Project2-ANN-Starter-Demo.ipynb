{
 "cells": [
  {
   "cell_type": "markdown",
   "metadata": {},
   "source": [
    "## Project Activities"
   ]
  },
  {
   "cell_type": "markdown",
   "metadata": {},
   "source": [
    "1. Titanic Dataset: Revisit Module 6 and 7 involving the Titanic Dataset and Kaggle. Then, use sklearn's MLPClassifier to produce a score in Kaggle Leaderboard for Titanic  Classification Competition.  Note: The accuracy might not be as high as the existing classifiers (due to the nature of the dataset) but the purpose of this exercise is familiarization.\n",
    "\n",
    "Usage:https://scikit-learn.org/stable/modules/neural_networks_supervised.html"
   ]
  },
  {
   "cell_type": "code",
   "execution_count": 73,
   "metadata": {},
   "outputs": [],
   "source": [
    "# Sample Usage\n",
    "from sklearn.neural_network import MLPClassifier\n",
    "\n",
    "\n",
    "X = [[0., 0.], [1., 1.]]\n",
    "y = [[0, 1], [1, 1]]\n",
    "\n",
    "model = MLPClassifier(solver='lbfgs', alpha=1e-5, hidden_layer_sizes=(15,), random_state=1)\n",
    "# Note: the model parameters must be modified for titanic classification"
   ]
  },
  {
   "cell_type": "code",
   "execution_count": 74,
   "metadata": {},
   "outputs": [
    {
     "data": {
      "text/plain": [
       "MLPClassifier(activation='relu', alpha=1e-05, batch_size='auto', beta_1=0.9,\n",
       "              beta_2=0.999, early_stopping=False, epsilon=1e-08,\n",
       "              hidden_layer_sizes=(15,), learning_rate='constant',\n",
       "              learning_rate_init=0.001, max_fun=15000, max_iter=200,\n",
       "              momentum=0.9, n_iter_no_change=10, nesterovs_momentum=True,\n",
       "              power_t=0.5, random_state=1, shuffle=True, solver='lbfgs',\n",
       "              tol=0.0001, validation_fraction=0.1, verbose=False,\n",
       "              warm_start=False)"
      ]
     },
     "execution_count": 74,
     "metadata": {},
     "output_type": "execute_result"
    }
   ],
   "source": [
    "model.fit(X, y)"
   ]
  },
  {
   "cell_type": "code",
   "execution_count": 75,
   "metadata": {},
   "outputs": [
    {
     "data": {
      "text/plain": [
       "array([[1, 1]])"
      ]
     },
     "execution_count": 75,
     "metadata": {},
     "output_type": "execute_result"
    }
   ],
   "source": [
    "model.predict([[1., 2.]])"
   ]
  },
  {
   "cell_type": "code",
   "execution_count": 76,
   "metadata": {},
   "outputs": [
    {
     "data": {
      "text/plain": [
       "array([[0, 1]])"
      ]
     },
     "execution_count": 76,
     "metadata": {},
     "output_type": "execute_result"
    }
   ],
   "source": [
    "model.predict([[0., 0.]])"
   ]
  },
  {
   "cell_type": "markdown",
   "metadata": {},
   "source": [
    "2. COVID-19 Forecasting. Using sklearn's MLP Regressor (https://scikit-learn.org/stable/modules/generated/sklearn.neural_network.MLPRegressor.html (Links to an external site.) ), forecast the future COVID-19 (a) number of cases and (b) number of fatalities in the Philippines for the future 10 days"
   ]
  },
  {
   "cell_type": "code",
   "execution_count": 77,
   "metadata": {},
   "outputs": [],
   "source": [
    "import matplotlib.pyplot as plt \n",
    "import numpy as np \n",
    "import pandas as pd\n",
    "\n",
    "from sklearn.linear_model import LinearRegression \n",
    "from sklearn.model_selection import RandomizedSearchCV, GridSearchCV, train_test_split\n",
    "from sklearn.preprocessing import PolynomialFeatures\n",
    "from sklearn.metrics import mean_squared_error, mean_absolute_error\n",
    "from sklearn.svm import SVR"
   ]
  },
  {
   "cell_type": "code",
   "execution_count": 78,
   "metadata": {},
   "outputs": [],
   "source": [
    "confirmed_df = pd.read_csv('https://raw.githubusercontent.com/CSSEGISandData/COVID-19/master/csse_covid_19_data/csse_covid_19_time_series/time_series_covid19_confirmed_global.csv')\n",
    "deaths_df = pd.read_csv('https://raw.githubusercontent.com/CSSEGISandData/COVID-19/master/csse_covid_19_data/csse_covid_19_time_series/time_series_covid19_deaths_global.csv')"
   ]
  },
  {
   "cell_type": "code",
   "execution_count": 79,
   "metadata": {},
   "outputs": [
    {
     "data": {
      "text/html": [
       "<div>\n",
       "<style scoped>\n",
       "    .dataframe tbody tr th:only-of-type {\n",
       "        vertical-align: middle;\n",
       "    }\n",
       "\n",
       "    .dataframe tbody tr th {\n",
       "        vertical-align: top;\n",
       "    }\n",
       "\n",
       "    .dataframe thead th {\n",
       "        text-align: right;\n",
       "    }\n",
       "</style>\n",
       "<table border=\"1\" class=\"dataframe\">\n",
       "  <thead>\n",
       "    <tr style=\"text-align: right;\">\n",
       "      <th></th>\n",
       "      <th>Province/State</th>\n",
       "      <th>Country/Region</th>\n",
       "      <th>Lat</th>\n",
       "      <th>Long</th>\n",
       "      <th>1/22/20</th>\n",
       "      <th>1/23/20</th>\n",
       "      <th>1/24/20</th>\n",
       "      <th>1/25/20</th>\n",
       "      <th>1/26/20</th>\n",
       "      <th>1/27/20</th>\n",
       "      <th>...</th>\n",
       "      <th>5/4/20</th>\n",
       "      <th>5/5/20</th>\n",
       "      <th>5/6/20</th>\n",
       "      <th>5/7/20</th>\n",
       "      <th>5/8/20</th>\n",
       "      <th>5/9/20</th>\n",
       "      <th>5/10/20</th>\n",
       "      <th>5/11/20</th>\n",
       "      <th>5/12/20</th>\n",
       "      <th>5/13/20</th>\n",
       "    </tr>\n",
       "  </thead>\n",
       "  <tbody>\n",
       "    <tr>\n",
       "      <th>0</th>\n",
       "      <td>NaN</td>\n",
       "      <td>Afghanistan</td>\n",
       "      <td>33.0000</td>\n",
       "      <td>65.0000</td>\n",
       "      <td>0</td>\n",
       "      <td>0</td>\n",
       "      <td>0</td>\n",
       "      <td>0</td>\n",
       "      <td>0</td>\n",
       "      <td>0</td>\n",
       "      <td>...</td>\n",
       "      <td>2894</td>\n",
       "      <td>3224</td>\n",
       "      <td>3392</td>\n",
       "      <td>3563</td>\n",
       "      <td>3778</td>\n",
       "      <td>4033</td>\n",
       "      <td>4402</td>\n",
       "      <td>4687</td>\n",
       "      <td>4963</td>\n",
       "      <td>5226</td>\n",
       "    </tr>\n",
       "    <tr>\n",
       "      <th>1</th>\n",
       "      <td>NaN</td>\n",
       "      <td>Albania</td>\n",
       "      <td>41.1533</td>\n",
       "      <td>20.1683</td>\n",
       "      <td>0</td>\n",
       "      <td>0</td>\n",
       "      <td>0</td>\n",
       "      <td>0</td>\n",
       "      <td>0</td>\n",
       "      <td>0</td>\n",
       "      <td>...</td>\n",
       "      <td>803</td>\n",
       "      <td>820</td>\n",
       "      <td>832</td>\n",
       "      <td>842</td>\n",
       "      <td>850</td>\n",
       "      <td>856</td>\n",
       "      <td>868</td>\n",
       "      <td>872</td>\n",
       "      <td>876</td>\n",
       "      <td>880</td>\n",
       "    </tr>\n",
       "    <tr>\n",
       "      <th>2</th>\n",
       "      <td>NaN</td>\n",
       "      <td>Algeria</td>\n",
       "      <td>28.0339</td>\n",
       "      <td>1.6596</td>\n",
       "      <td>0</td>\n",
       "      <td>0</td>\n",
       "      <td>0</td>\n",
       "      <td>0</td>\n",
       "      <td>0</td>\n",
       "      <td>0</td>\n",
       "      <td>...</td>\n",
       "      <td>4648</td>\n",
       "      <td>4838</td>\n",
       "      <td>4997</td>\n",
       "      <td>5182</td>\n",
       "      <td>5369</td>\n",
       "      <td>5558</td>\n",
       "      <td>5723</td>\n",
       "      <td>5891</td>\n",
       "      <td>6067</td>\n",
       "      <td>6253</td>\n",
       "    </tr>\n",
       "    <tr>\n",
       "      <th>3</th>\n",
       "      <td>NaN</td>\n",
       "      <td>Andorra</td>\n",
       "      <td>42.5063</td>\n",
       "      <td>1.5218</td>\n",
       "      <td>0</td>\n",
       "      <td>0</td>\n",
       "      <td>0</td>\n",
       "      <td>0</td>\n",
       "      <td>0</td>\n",
       "      <td>0</td>\n",
       "      <td>...</td>\n",
       "      <td>750</td>\n",
       "      <td>751</td>\n",
       "      <td>751</td>\n",
       "      <td>752</td>\n",
       "      <td>752</td>\n",
       "      <td>754</td>\n",
       "      <td>755</td>\n",
       "      <td>755</td>\n",
       "      <td>758</td>\n",
       "      <td>760</td>\n",
       "    </tr>\n",
       "    <tr>\n",
       "      <th>4</th>\n",
       "      <td>NaN</td>\n",
       "      <td>Angola</td>\n",
       "      <td>-11.2027</td>\n",
       "      <td>17.8739</td>\n",
       "      <td>0</td>\n",
       "      <td>0</td>\n",
       "      <td>0</td>\n",
       "      <td>0</td>\n",
       "      <td>0</td>\n",
       "      <td>0</td>\n",
       "      <td>...</td>\n",
       "      <td>35</td>\n",
       "      <td>36</td>\n",
       "      <td>36</td>\n",
       "      <td>36</td>\n",
       "      <td>43</td>\n",
       "      <td>43</td>\n",
       "      <td>45</td>\n",
       "      <td>45</td>\n",
       "      <td>45</td>\n",
       "      <td>45</td>\n",
       "    </tr>\n",
       "  </tbody>\n",
       "</table>\n",
       "<p>5 rows × 117 columns</p>\n",
       "</div>"
      ],
      "text/plain": [
       "  Province/State Country/Region      Lat     Long  1/22/20  1/23/20  1/24/20  \\\n",
       "0            NaN    Afghanistan  33.0000  65.0000        0        0        0   \n",
       "1            NaN        Albania  41.1533  20.1683        0        0        0   \n",
       "2            NaN        Algeria  28.0339   1.6596        0        0        0   \n",
       "3            NaN        Andorra  42.5063   1.5218        0        0        0   \n",
       "4            NaN         Angola -11.2027  17.8739        0        0        0   \n",
       "\n",
       "   1/25/20  1/26/20  1/27/20  ...  5/4/20  5/5/20  5/6/20  5/7/20  5/8/20  \\\n",
       "0        0        0        0  ...    2894    3224    3392    3563    3778   \n",
       "1        0        0        0  ...     803     820     832     842     850   \n",
       "2        0        0        0  ...    4648    4838    4997    5182    5369   \n",
       "3        0        0        0  ...     750     751     751     752     752   \n",
       "4        0        0        0  ...      35      36      36      36      43   \n",
       "\n",
       "   5/9/20  5/10/20  5/11/20  5/12/20  5/13/20  \n",
       "0    4033     4402     4687     4963     5226  \n",
       "1     856      868      872      876      880  \n",
       "2    5558     5723     5891     6067     6253  \n",
       "3     754      755      755      758      760  \n",
       "4      43       45       45       45       45  \n",
       "\n",
       "[5 rows x 117 columns]"
      ]
     },
     "execution_count": 79,
     "metadata": {},
     "output_type": "execute_result"
    }
   ],
   "source": [
    "confirmed_df.head()"
   ]
  },
  {
   "cell_type": "code",
   "execution_count": 80,
   "metadata": {},
   "outputs": [
    {
     "data": {
      "text/html": [
       "<div>\n",
       "<style scoped>\n",
       "    .dataframe tbody tr th:only-of-type {\n",
       "        vertical-align: middle;\n",
       "    }\n",
       "\n",
       "    .dataframe tbody tr th {\n",
       "        vertical-align: top;\n",
       "    }\n",
       "\n",
       "    .dataframe thead th {\n",
       "        text-align: right;\n",
       "    }\n",
       "</style>\n",
       "<table border=\"1\" class=\"dataframe\">\n",
       "  <thead>\n",
       "    <tr style=\"text-align: right;\">\n",
       "      <th></th>\n",
       "      <th>Province/State</th>\n",
       "      <th>Country/Region</th>\n",
       "      <th>Lat</th>\n",
       "      <th>Long</th>\n",
       "      <th>1/22/20</th>\n",
       "      <th>1/23/20</th>\n",
       "      <th>1/24/20</th>\n",
       "      <th>1/25/20</th>\n",
       "      <th>1/26/20</th>\n",
       "      <th>1/27/20</th>\n",
       "      <th>...</th>\n",
       "      <th>5/4/20</th>\n",
       "      <th>5/5/20</th>\n",
       "      <th>5/6/20</th>\n",
       "      <th>5/7/20</th>\n",
       "      <th>5/8/20</th>\n",
       "      <th>5/9/20</th>\n",
       "      <th>5/10/20</th>\n",
       "      <th>5/11/20</th>\n",
       "      <th>5/12/20</th>\n",
       "      <th>5/13/20</th>\n",
       "    </tr>\n",
       "  </thead>\n",
       "  <tbody>\n",
       "    <tr>\n",
       "      <th>0</th>\n",
       "      <td>NaN</td>\n",
       "      <td>Afghanistan</td>\n",
       "      <td>33.0000</td>\n",
       "      <td>65.0000</td>\n",
       "      <td>0</td>\n",
       "      <td>0</td>\n",
       "      <td>0</td>\n",
       "      <td>0</td>\n",
       "      <td>0</td>\n",
       "      <td>0</td>\n",
       "      <td>...</td>\n",
       "      <td>90</td>\n",
       "      <td>95</td>\n",
       "      <td>104</td>\n",
       "      <td>106</td>\n",
       "      <td>109</td>\n",
       "      <td>115</td>\n",
       "      <td>120</td>\n",
       "      <td>122</td>\n",
       "      <td>127</td>\n",
       "      <td>132</td>\n",
       "    </tr>\n",
       "    <tr>\n",
       "      <th>1</th>\n",
       "      <td>NaN</td>\n",
       "      <td>Albania</td>\n",
       "      <td>41.1533</td>\n",
       "      <td>20.1683</td>\n",
       "      <td>0</td>\n",
       "      <td>0</td>\n",
       "      <td>0</td>\n",
       "      <td>0</td>\n",
       "      <td>0</td>\n",
       "      <td>0</td>\n",
       "      <td>...</td>\n",
       "      <td>31</td>\n",
       "      <td>31</td>\n",
       "      <td>31</td>\n",
       "      <td>31</td>\n",
       "      <td>31</td>\n",
       "      <td>31</td>\n",
       "      <td>31</td>\n",
       "      <td>31</td>\n",
       "      <td>31</td>\n",
       "      <td>31</td>\n",
       "    </tr>\n",
       "    <tr>\n",
       "      <th>2</th>\n",
       "      <td>NaN</td>\n",
       "      <td>Algeria</td>\n",
       "      <td>28.0339</td>\n",
       "      <td>1.6596</td>\n",
       "      <td>0</td>\n",
       "      <td>0</td>\n",
       "      <td>0</td>\n",
       "      <td>0</td>\n",
       "      <td>0</td>\n",
       "      <td>0</td>\n",
       "      <td>...</td>\n",
       "      <td>465</td>\n",
       "      <td>470</td>\n",
       "      <td>476</td>\n",
       "      <td>483</td>\n",
       "      <td>488</td>\n",
       "      <td>494</td>\n",
       "      <td>502</td>\n",
       "      <td>507</td>\n",
       "      <td>515</td>\n",
       "      <td>522</td>\n",
       "    </tr>\n",
       "    <tr>\n",
       "      <th>3</th>\n",
       "      <td>NaN</td>\n",
       "      <td>Andorra</td>\n",
       "      <td>42.5063</td>\n",
       "      <td>1.5218</td>\n",
       "      <td>0</td>\n",
       "      <td>0</td>\n",
       "      <td>0</td>\n",
       "      <td>0</td>\n",
       "      <td>0</td>\n",
       "      <td>0</td>\n",
       "      <td>...</td>\n",
       "      <td>45</td>\n",
       "      <td>46</td>\n",
       "      <td>46</td>\n",
       "      <td>47</td>\n",
       "      <td>47</td>\n",
       "      <td>48</td>\n",
       "      <td>48</td>\n",
       "      <td>48</td>\n",
       "      <td>48</td>\n",
       "      <td>49</td>\n",
       "    </tr>\n",
       "    <tr>\n",
       "      <th>4</th>\n",
       "      <td>NaN</td>\n",
       "      <td>Angola</td>\n",
       "      <td>-11.2027</td>\n",
       "      <td>17.8739</td>\n",
       "      <td>0</td>\n",
       "      <td>0</td>\n",
       "      <td>0</td>\n",
       "      <td>0</td>\n",
       "      <td>0</td>\n",
       "      <td>0</td>\n",
       "      <td>...</td>\n",
       "      <td>2</td>\n",
       "      <td>2</td>\n",
       "      <td>2</td>\n",
       "      <td>2</td>\n",
       "      <td>2</td>\n",
       "      <td>2</td>\n",
       "      <td>2</td>\n",
       "      <td>2</td>\n",
       "      <td>2</td>\n",
       "      <td>2</td>\n",
       "    </tr>\n",
       "  </tbody>\n",
       "</table>\n",
       "<p>5 rows × 117 columns</p>\n",
       "</div>"
      ],
      "text/plain": [
       "  Province/State Country/Region      Lat     Long  1/22/20  1/23/20  1/24/20  \\\n",
       "0            NaN    Afghanistan  33.0000  65.0000        0        0        0   \n",
       "1            NaN        Albania  41.1533  20.1683        0        0        0   \n",
       "2            NaN        Algeria  28.0339   1.6596        0        0        0   \n",
       "3            NaN        Andorra  42.5063   1.5218        0        0        0   \n",
       "4            NaN         Angola -11.2027  17.8739        0        0        0   \n",
       "\n",
       "   1/25/20  1/26/20  1/27/20  ...  5/4/20  5/5/20  5/6/20  5/7/20  5/8/20  \\\n",
       "0        0        0        0  ...      90      95     104     106     109   \n",
       "1        0        0        0  ...      31      31      31      31      31   \n",
       "2        0        0        0  ...     465     470     476     483     488   \n",
       "3        0        0        0  ...      45      46      46      47      47   \n",
       "4        0        0        0  ...       2       2       2       2       2   \n",
       "\n",
       "   5/9/20  5/10/20  5/11/20  5/12/20  5/13/20  \n",
       "0     115      120      122      127      132  \n",
       "1      31       31       31       31       31  \n",
       "2     494      502      507      515      522  \n",
       "3      48       48       48       48       49  \n",
       "4       2        2        2        2        2  \n",
       "\n",
       "[5 rows x 117 columns]"
      ]
     },
     "execution_count": 80,
     "metadata": {},
     "output_type": "execute_result"
    }
   ],
   "source": [
    "deaths_df.head()"
   ]
  },
  {
   "cell_type": "code",
   "execution_count": 81,
   "metadata": {},
   "outputs": [],
   "source": [
    "cols = confirmed_df.keys()\n",
    "confirmed = confirmed_df.loc[:, cols[4]:]\n",
    "deaths = deaths_df.loc[:, cols[4]:]"
   ]
  },
  {
   "cell_type": "code",
   "execution_count": 82,
   "metadata": {},
   "outputs": [
    {
     "data": {
      "text/html": [
       "<div>\n",
       "<style scoped>\n",
       "    .dataframe tbody tr th:only-of-type {\n",
       "        vertical-align: middle;\n",
       "    }\n",
       "\n",
       "    .dataframe tbody tr th {\n",
       "        vertical-align: top;\n",
       "    }\n",
       "\n",
       "    .dataframe thead th {\n",
       "        text-align: right;\n",
       "    }\n",
       "</style>\n",
       "<table border=\"1\" class=\"dataframe\">\n",
       "  <thead>\n",
       "    <tr style=\"text-align: right;\">\n",
       "      <th></th>\n",
       "      <th>1/22/20</th>\n",
       "      <th>1/23/20</th>\n",
       "      <th>1/24/20</th>\n",
       "      <th>1/25/20</th>\n",
       "      <th>1/26/20</th>\n",
       "      <th>1/27/20</th>\n",
       "      <th>1/28/20</th>\n",
       "      <th>1/29/20</th>\n",
       "      <th>1/30/20</th>\n",
       "      <th>1/31/20</th>\n",
       "      <th>...</th>\n",
       "      <th>5/4/20</th>\n",
       "      <th>5/5/20</th>\n",
       "      <th>5/6/20</th>\n",
       "      <th>5/7/20</th>\n",
       "      <th>5/8/20</th>\n",
       "      <th>5/9/20</th>\n",
       "      <th>5/10/20</th>\n",
       "      <th>5/11/20</th>\n",
       "      <th>5/12/20</th>\n",
       "      <th>5/13/20</th>\n",
       "    </tr>\n",
       "  </thead>\n",
       "  <tbody>\n",
       "    <tr>\n",
       "      <th>0</th>\n",
       "      <td>0</td>\n",
       "      <td>0</td>\n",
       "      <td>0</td>\n",
       "      <td>0</td>\n",
       "      <td>0</td>\n",
       "      <td>0</td>\n",
       "      <td>0</td>\n",
       "      <td>0</td>\n",
       "      <td>0</td>\n",
       "      <td>0</td>\n",
       "      <td>...</td>\n",
       "      <td>2894</td>\n",
       "      <td>3224</td>\n",
       "      <td>3392</td>\n",
       "      <td>3563</td>\n",
       "      <td>3778</td>\n",
       "      <td>4033</td>\n",
       "      <td>4402</td>\n",
       "      <td>4687</td>\n",
       "      <td>4963</td>\n",
       "      <td>5226</td>\n",
       "    </tr>\n",
       "    <tr>\n",
       "      <th>1</th>\n",
       "      <td>0</td>\n",
       "      <td>0</td>\n",
       "      <td>0</td>\n",
       "      <td>0</td>\n",
       "      <td>0</td>\n",
       "      <td>0</td>\n",
       "      <td>0</td>\n",
       "      <td>0</td>\n",
       "      <td>0</td>\n",
       "      <td>0</td>\n",
       "      <td>...</td>\n",
       "      <td>803</td>\n",
       "      <td>820</td>\n",
       "      <td>832</td>\n",
       "      <td>842</td>\n",
       "      <td>850</td>\n",
       "      <td>856</td>\n",
       "      <td>868</td>\n",
       "      <td>872</td>\n",
       "      <td>876</td>\n",
       "      <td>880</td>\n",
       "    </tr>\n",
       "    <tr>\n",
       "      <th>2</th>\n",
       "      <td>0</td>\n",
       "      <td>0</td>\n",
       "      <td>0</td>\n",
       "      <td>0</td>\n",
       "      <td>0</td>\n",
       "      <td>0</td>\n",
       "      <td>0</td>\n",
       "      <td>0</td>\n",
       "      <td>0</td>\n",
       "      <td>0</td>\n",
       "      <td>...</td>\n",
       "      <td>4648</td>\n",
       "      <td>4838</td>\n",
       "      <td>4997</td>\n",
       "      <td>5182</td>\n",
       "      <td>5369</td>\n",
       "      <td>5558</td>\n",
       "      <td>5723</td>\n",
       "      <td>5891</td>\n",
       "      <td>6067</td>\n",
       "      <td>6253</td>\n",
       "    </tr>\n",
       "    <tr>\n",
       "      <th>3</th>\n",
       "      <td>0</td>\n",
       "      <td>0</td>\n",
       "      <td>0</td>\n",
       "      <td>0</td>\n",
       "      <td>0</td>\n",
       "      <td>0</td>\n",
       "      <td>0</td>\n",
       "      <td>0</td>\n",
       "      <td>0</td>\n",
       "      <td>0</td>\n",
       "      <td>...</td>\n",
       "      <td>750</td>\n",
       "      <td>751</td>\n",
       "      <td>751</td>\n",
       "      <td>752</td>\n",
       "      <td>752</td>\n",
       "      <td>754</td>\n",
       "      <td>755</td>\n",
       "      <td>755</td>\n",
       "      <td>758</td>\n",
       "      <td>760</td>\n",
       "    </tr>\n",
       "    <tr>\n",
       "      <th>4</th>\n",
       "      <td>0</td>\n",
       "      <td>0</td>\n",
       "      <td>0</td>\n",
       "      <td>0</td>\n",
       "      <td>0</td>\n",
       "      <td>0</td>\n",
       "      <td>0</td>\n",
       "      <td>0</td>\n",
       "      <td>0</td>\n",
       "      <td>0</td>\n",
       "      <td>...</td>\n",
       "      <td>35</td>\n",
       "      <td>36</td>\n",
       "      <td>36</td>\n",
       "      <td>36</td>\n",
       "      <td>43</td>\n",
       "      <td>43</td>\n",
       "      <td>45</td>\n",
       "      <td>45</td>\n",
       "      <td>45</td>\n",
       "      <td>45</td>\n",
       "    </tr>\n",
       "  </tbody>\n",
       "</table>\n",
       "<p>5 rows × 113 columns</p>\n",
       "</div>"
      ],
      "text/plain": [
       "   1/22/20  1/23/20  1/24/20  1/25/20  1/26/20  1/27/20  1/28/20  1/29/20  \\\n",
       "0        0        0        0        0        0        0        0        0   \n",
       "1        0        0        0        0        0        0        0        0   \n",
       "2        0        0        0        0        0        0        0        0   \n",
       "3        0        0        0        0        0        0        0        0   \n",
       "4        0        0        0        0        0        0        0        0   \n",
       "\n",
       "   1/30/20  1/31/20  ...  5/4/20  5/5/20  5/6/20  5/7/20  5/8/20  5/9/20  \\\n",
       "0        0        0  ...    2894    3224    3392    3563    3778    4033   \n",
       "1        0        0  ...     803     820     832     842     850     856   \n",
       "2        0        0  ...    4648    4838    4997    5182    5369    5558   \n",
       "3        0        0  ...     750     751     751     752     752     754   \n",
       "4        0        0  ...      35      36      36      36      43      43   \n",
       "\n",
       "   5/10/20  5/11/20  5/12/20  5/13/20  \n",
       "0     4402     4687     4963     5226  \n",
       "1      868      872      876      880  \n",
       "2     5723     5891     6067     6253  \n",
       "3      755      755      758      760  \n",
       "4       45       45       45       45  \n",
       "\n",
       "[5 rows x 113 columns]"
      ]
     },
     "execution_count": 82,
     "metadata": {},
     "output_type": "execute_result"
    }
   ],
   "source": [
    "confirmed.head()"
   ]
  },
  {
   "cell_type": "code",
   "execution_count": 83,
   "metadata": {},
   "outputs": [
    {
     "data": {
      "text/plain": [
       "Index(['1/22/20', '1/23/20', '1/24/20', '1/25/20', '1/26/20', '1/27/20',\n",
       "       '1/28/20', '1/29/20', '1/30/20', '1/31/20',\n",
       "       ...\n",
       "       '5/4/20', '5/5/20', '5/6/20', '5/7/20', '5/8/20', '5/9/20', '5/10/20',\n",
       "       '5/11/20', '5/12/20', '5/13/20'],\n",
       "      dtype='object', length=113)"
      ]
     },
     "execution_count": 83,
     "metadata": {},
     "output_type": "execute_result"
    }
   ],
   "source": [
    "dates = confirmed.keys()\n",
    "dates\n",
    "# Note: Day 0 is 1/22/20"
   ]
  },
  {
   "cell_type": "code",
   "execution_count": 84,
   "metadata": {},
   "outputs": [
    {
     "data": {
      "text/plain": [
       "123"
      ]
     },
     "execution_count": 84,
     "metadata": {},
     "output_type": "execute_result"
    }
   ],
   "source": [
    "days_in_future = 10\n",
    "future_forecast = np.array([i for i in range(len(dates)+days_in_future)]).reshape(-1, 1)\n",
    "\n",
    "# Note: Future days are day 87 to day 96, but this may vary depending on the time\n",
    "# you'll complete the project, e.g. if by the time you complete the project 100 data samples \n",
    "# are available in COVID cases or deaths, then future days will be from 101 to 110\n",
    "\n",
    "len(future_forecast)"
   ]
  },
  {
   "cell_type": "code",
   "execution_count": 85,
   "metadata": {
    "scrolled": false
   },
   "outputs": [
    {
     "name": "stdout",
     "output_type": "stream",
     "text": [
      "[[0 '1/22/20']\n",
      " [1 '1/23/20']\n",
      " [2 '1/24/20']\n",
      " [3 '1/25/20']\n",
      " [4 '1/26/20']\n",
      " [5 '1/27/20']\n",
      " [6 '1/28/20']\n",
      " [7 '1/29/20']\n",
      " [8 '1/30/20']\n",
      " [9 '1/31/20']\n",
      " [10 '2/1/20']\n",
      " [11 '2/2/20']\n",
      " [12 '2/3/20']\n",
      " [13 '2/4/20']\n",
      " [14 '2/5/20']\n",
      " [15 '2/6/20']\n",
      " [16 '2/7/20']\n",
      " [17 '2/8/20']\n",
      " [18 '2/9/20']\n",
      " [19 '2/10/20']\n",
      " [20 '2/11/20']\n",
      " [21 '2/12/20']\n",
      " [22 '2/13/20']\n",
      " [23 '2/14/20']\n",
      " [24 '2/15/20']\n",
      " [25 '2/16/20']\n",
      " [26 '2/17/20']\n",
      " [27 '2/18/20']\n",
      " [28 '2/19/20']\n",
      " [29 '2/20/20']\n",
      " [30 '2/21/20']\n",
      " [31 '2/22/20']\n",
      " [32 '2/23/20']\n",
      " [33 '2/24/20']\n",
      " [34 '2/25/20']\n",
      " [35 '2/26/20']\n",
      " [36 '2/27/20']\n",
      " [37 '2/28/20']\n",
      " [38 '2/29/20']\n",
      " [39 '3/1/20']\n",
      " [40 '3/2/20']\n",
      " [41 '3/3/20']\n",
      " [42 '3/4/20']\n",
      " [43 '3/5/20']\n",
      " [44 '3/6/20']\n",
      " [45 '3/7/20']\n",
      " [46 '3/8/20']\n",
      " [47 '3/9/20']\n",
      " [48 '3/10/20']\n",
      " [49 '3/11/20']\n",
      " [50 '3/12/20']\n",
      " [51 '3/13/20']\n",
      " [52 '3/14/20']\n",
      " [53 '3/15/20']\n",
      " [54 '3/16/20']\n",
      " [55 '3/17/20']\n",
      " [56 '3/18/20']\n",
      " [57 '3/19/20']\n",
      " [58 '3/20/20']\n",
      " [59 '3/21/20']\n",
      " [60 '3/22/20']\n",
      " [61 '3/23/20']\n",
      " [62 '3/24/20']\n",
      " [63 '3/25/20']\n",
      " [64 '3/26/20']\n",
      " [65 '3/27/20']\n",
      " [66 '3/28/20']\n",
      " [67 '3/29/20']\n",
      " [68 '3/30/20']\n",
      " [69 '3/31/20']\n",
      " [70 '4/1/20']\n",
      " [71 '4/2/20']\n",
      " [72 '4/3/20']\n",
      " [73 '4/4/20']\n",
      " [74 '4/5/20']\n",
      " [75 '4/6/20']\n",
      " [76 '4/7/20']\n",
      " [77 '4/8/20']\n",
      " [78 '4/9/20']\n",
      " [79 '4/10/20']\n",
      " [80 '4/11/20']\n",
      " [81 '4/12/20']\n",
      " [82 '4/13/20']\n",
      " [83 '4/14/20']\n",
      " [84 '4/15/20']\n",
      " [85 '4/16/20']\n",
      " [86 '4/17/20']\n",
      " [87 '4/18/20']\n",
      " [88 '4/19/20']\n",
      " [89 '4/20/20']\n",
      " [90 '4/21/20']\n",
      " [91 '4/22/20']\n",
      " [92 '4/23/20']\n",
      " [93 '4/24/20']\n",
      " [94 '4/25/20']\n",
      " [95 '4/26/20']\n",
      " [96 '4/27/20']\n",
      " [97 '4/28/20']\n",
      " [98 '4/29/20']\n",
      " [99 '4/30/20']\n",
      " [100 '5/1/20']\n",
      " [101 '5/2/20']\n",
      " [102 '5/3/20']\n",
      " [103 '5/4/20']\n",
      " [104 '5/5/20']\n",
      " [105 '5/6/20']\n",
      " [106 '5/7/20']\n",
      " [107 '5/8/20']\n",
      " [108 '5/9/20']\n",
      " [109 '5/10/20']\n",
      " [110 '5/11/20']\n",
      " [111 '5/12/20']\n",
      " [112 '5/13/20']]\n"
     ]
    }
   ],
   "source": [
    "import datetime\n",
    "\n",
    "adjusted_dates = future_forecast[:-10]\n",
    "\n",
    "print(np.c_[adjusted_dates, dates])"
   ]
  },
  {
   "cell_type": "code",
   "execution_count": 86,
   "metadata": {
    "scrolled": false
   },
   "outputs": [
    {
     "name": "stdout",
     "output_type": "stream",
     "text": [
      "[['0' '01/22/2020']\n",
      " ['1' '01/23/2020']\n",
      " ['2' '01/24/2020']\n",
      " ['3' '01/25/2020']\n",
      " ['4' '01/26/2020']\n",
      " ['5' '01/27/2020']\n",
      " ['6' '01/28/2020']\n",
      " ['7' '01/29/2020']\n",
      " ['8' '01/30/2020']\n",
      " ['9' '01/31/2020']\n",
      " ['10' '02/01/2020']\n",
      " ['11' '02/02/2020']\n",
      " ['12' '02/03/2020']\n",
      " ['13' '02/04/2020']\n",
      " ['14' '02/05/2020']\n",
      " ['15' '02/06/2020']\n",
      " ['16' '02/07/2020']\n",
      " ['17' '02/08/2020']\n",
      " ['18' '02/09/2020']\n",
      " ['19' '02/10/2020']\n",
      " ['20' '02/11/2020']\n",
      " ['21' '02/12/2020']\n",
      " ['22' '02/13/2020']\n",
      " ['23' '02/14/2020']\n",
      " ['24' '02/15/2020']\n",
      " ['25' '02/16/2020']\n",
      " ['26' '02/17/2020']\n",
      " ['27' '02/18/2020']\n",
      " ['28' '02/19/2020']\n",
      " ['29' '02/20/2020']\n",
      " ['30' '02/21/2020']\n",
      " ['31' '02/22/2020']\n",
      " ['32' '02/23/2020']\n",
      " ['33' '02/24/2020']\n",
      " ['34' '02/25/2020']\n",
      " ['35' '02/26/2020']\n",
      " ['36' '02/27/2020']\n",
      " ['37' '02/28/2020']\n",
      " ['38' '02/29/2020']\n",
      " ['39' '03/01/2020']\n",
      " ['40' '03/02/2020']\n",
      " ['41' '03/03/2020']\n",
      " ['42' '03/04/2020']\n",
      " ['43' '03/05/2020']\n",
      " ['44' '03/06/2020']\n",
      " ['45' '03/07/2020']\n",
      " ['46' '03/08/2020']\n",
      " ['47' '03/09/2020']\n",
      " ['48' '03/10/2020']\n",
      " ['49' '03/11/2020']\n",
      " ['50' '03/12/2020']\n",
      " ['51' '03/13/2020']\n",
      " ['52' '03/14/2020']\n",
      " ['53' '03/15/2020']\n",
      " ['54' '03/16/2020']\n",
      " ['55' '03/17/2020']\n",
      " ['56' '03/18/2020']\n",
      " ['57' '03/19/2020']\n",
      " ['58' '03/20/2020']\n",
      " ['59' '03/21/2020']\n",
      " ['60' '03/22/2020']\n",
      " ['61' '03/23/2020']\n",
      " ['62' '03/24/2020']\n",
      " ['63' '03/25/2020']\n",
      " ['64' '03/26/2020']\n",
      " ['65' '03/27/2020']\n",
      " ['66' '03/28/2020']\n",
      " ['67' '03/29/2020']\n",
      " ['68' '03/30/2020']\n",
      " ['69' '03/31/2020']\n",
      " ['70' '04/01/2020']\n",
      " ['71' '04/02/2020']\n",
      " ['72' '04/03/2020']\n",
      " ['73' '04/04/2020']\n",
      " ['74' '04/05/2020']\n",
      " ['75' '04/06/2020']\n",
      " ['76' '04/07/2020']\n",
      " ['77' '04/08/2020']\n",
      " ['78' '04/09/2020']\n",
      " ['79' '04/10/2020']\n",
      " ['80' '04/11/2020']\n",
      " ['81' '04/12/2020']\n",
      " ['82' '04/13/2020']\n",
      " ['83' '04/14/2020']\n",
      " ['84' '04/15/2020']\n",
      " ['85' '04/16/2020']\n",
      " ['86' '04/17/2020']\n",
      " ['87' '04/18/2020']\n",
      " ['88' '04/19/2020']\n",
      " ['89' '04/20/2020']\n",
      " ['90' '04/21/2020']\n",
      " ['91' '04/22/2020']\n",
      " ['92' '04/23/2020']\n",
      " ['93' '04/24/2020']\n",
      " ['94' '04/25/2020']\n",
      " ['95' '04/26/2020']\n",
      " ['96' '04/27/2020']\n",
      " ['97' '04/28/2020']\n",
      " ['98' '04/29/2020']\n",
      " ['99' '04/30/2020']\n",
      " ['100' '05/01/2020']\n",
      " ['101' '05/02/2020']\n",
      " ['102' '05/03/2020']\n",
      " ['103' '05/04/2020']\n",
      " ['104' '05/05/2020']\n",
      " ['105' '05/06/2020']\n",
      " ['106' '05/07/2020']\n",
      " ['107' '05/08/2020']\n",
      " ['108' '05/09/2020']\n",
      " ['109' '05/10/2020']\n",
      " ['110' '05/11/2020']\n",
      " ['111' '05/12/2020']\n",
      " ['112' '05/13/2020']\n",
      " ['113' '05/14/2020']\n",
      " ['114' '05/15/2020']\n",
      " ['115' '05/16/2020']\n",
      " ['116' '05/17/2020']\n",
      " ['117' '05/18/2020']\n",
      " ['118' '05/19/2020']\n",
      " ['119' '05/20/2020']\n",
      " ['120' '05/21/2020']\n",
      " ['121' '05/22/2020']\n",
      " ['122' '05/23/2020']]\n"
     ]
    }
   ],
   "source": [
    "\n",
    "# Convert integer days to datetime objects\n",
    "start = '1/22/2020'\n",
    "start_date = datetime.datetime.strptime(start, '%m/%d/%Y')\n",
    "future_forecast_dates = [(start_date + datetime.timedelta(days=i)).strftime('%m/%d/%Y') for i in range(len(future_forecast))]\n",
    "\n",
    "print(np.c_[future_forecast, future_forecast_dates])"
   ]
  },
  {
   "cell_type": "code",
   "execution_count": 87,
   "metadata": {},
   "outputs": [],
   "source": [
    "# Acquire the global COVID-19 cases\n",
    "world_cases = [confirmed[i].sum() for i in dates]\n",
    "# Convert to Numpy array\n",
    "world_cases = np.array(world_cases).reshape(-1, 1)"
   ]
  },
  {
   "cell_type": "code",
   "execution_count": 88,
   "metadata": {},
   "outputs": [],
   "source": [
    "# Convert days to Numpy array\n",
    "days_since_1_22 = np.array([i for i in range(len(dates))]).reshape(-1, 1)"
   ]
  },
  {
   "cell_type": "code",
   "execution_count": 89,
   "metadata": {},
   "outputs": [],
   "source": [
    "# Generate train and test samples\n",
    "X_train_confirmed, X_test_confirmed, y_train_confirmed, y_test_confirmed = train_test_split(days_since_1_22, world_cases, test_size=0.10, shuffle=False) "
   ]
  },
  {
   "cell_type": "code",
   "execution_count": 90,
   "metadata": {
    "scrolled": false
   },
   "outputs": [
    {
     "name": "stdout",
     "output_type": "stream",
     "text": [
      "[[  0   1   2   3   4   5   6   7   8   9  10  11  12  13  14  15  16  17\n",
      "   18  19  20  21  22  23  24  25  26  27  28  29  30  31  32  33  34  35\n",
      "   36  37  38  39  40  41  42  43  44  45  46  47  48  49  50  51  52  53\n",
      "   54  55  56  57  58  59  60  61  62  63  64  65  66  67  68  69  70  71\n",
      "   72  73  74  75  76  77  78  79  80  81  82  83  84  85  86  87  88  89\n",
      "   90  91  92  93  94  95  96  97  98  99 100]]\n",
      "[[    555     654     941    1434    2118    2927    5578    6166    8234\n",
      "     9927   12038   16787   19881   23892   27635   30794   34391   37120\n",
      "    40150   42762   44802   45221   60368   66885   69030   71224   73258\n",
      "    75136   75639   76197   76819   78572   78958   79561   80406   81388\n",
      "    82746   84112   86011   88369   90306   92840   95120   97886  101801\n",
      "   105847  109821  113590  118620  125875  128352  145223  156118  167470\n",
      "   181624  197134  214875  242631  272263  304580  337018  378282  418106\n",
      "   467751  529722  593459  660853  720290  782500  857608  932650 1013477\n",
      "  1095893 1176059 1249743 1321436 1396438 1480232 1565555 1657950 1736032\n",
      "  1835145 1905160 1975566 2055424 2151792 2239634 2317243 2400787 2471727\n",
      "  2549046 2624608 2708403 2795731 2881140 2955033 3023722 3097229 3172287\n",
      "  3256910 3345558]]\n"
     ]
    }
   ],
   "source": [
    "print(X_train_confirmed.T)\n",
    "print(y_train_confirmed.T)"
   ]
  },
  {
   "cell_type": "code",
   "execution_count": 91,
   "metadata": {},
   "outputs": [
    {
     "name": "stdout",
     "output_type": "stream",
     "text": [
      "[[101 102 103 104 105 106 107 108 109 110 111 112]]\n",
      "[[3427584 3506729 3583055 3662691 3756069 3845718 3938064 4024009 4101699\n",
      "  4177502 4261747 4347018]]\n"
     ]
    }
   ],
   "source": [
    "print(X_test_confirmed.T)\n",
    "print(y_test_confirmed.T)"
   ]
  },
  {
   "cell_type": "markdown",
   "metadata": {},
   "source": [
    "As shown above, 90% of the data will be used to train the model (0 to 77th sample), while 10% will be utilized to test our model (78th to 86th data sample)."
   ]
  },
  {
   "cell_type": "markdown",
   "metadata": {},
   "source": [
    "## DEMO 1: Polynomial Regression"
   ]
  },
  {
   "cell_type": "code",
   "execution_count": 92,
   "metadata": {},
   "outputs": [],
   "source": [
    "# Transform our data for polynomial regression\n",
    "poly = PolynomialFeatures(degree=3)\n",
    "poly_X_train_confirmed = poly.fit_transform(X_train_confirmed)\n",
    "poly_X_test_confirmed = poly.fit_transform(X_test_confirmed)\n",
    "poly_future_forecast = poly.fit_transform(future_forecast)\n",
    "\n",
    "# 1. Choose model\n",
    "model = LinearRegression(normalize=True, fit_intercept=True)\n",
    "\n",
    "# 2. Train\n",
    "model.fit(poly_X_train_confirmed, y_train_confirmed)\n",
    "\n",
    "# 3. Test\n",
    "test_linear_pred = model.predict(poly_X_test_confirmed)\n",
    "\n",
    "# 4. Predict\n",
    "prediction       = model.predict(poly_future_forecast)"
   ]
  },
  {
   "cell_type": "code",
   "execution_count": 93,
   "metadata": {},
   "outputs": [
    {
     "name": "stdout",
     "output_type": "stream",
     "text": [
      "MAE: 645181.29154895\n",
      "MSE: 466901991717.9362\n"
     ]
    }
   ],
   "source": [
    "print('MAE:', mean_absolute_error(test_linear_pred, y_test_confirmed))\n",
    "print('MSE:',mean_squared_error(test_linear_pred, y_test_confirmed))"
   ]
  },
  {
   "cell_type": "code",
   "execution_count": 94,
   "metadata": {},
   "outputs": [
    {
     "name": "stdout",
     "output_type": "stream",
     "text": [
      "[[   0.         -332.00475368 -215.43757417    5.74612723]]\n"
     ]
    }
   ],
   "source": [
    "print(model.coef_)"
   ]
  },
  {
   "cell_type": "code",
   "execution_count": 95,
   "metadata": {},
   "outputs": [
    {
     "data": {
      "text/plain": [
       "<matplotlib.legend.Legend at 0x7f8ee8527990>"
      ]
     },
     "execution_count": 95,
     "metadata": {},
     "output_type": "execute_result"
    },
    {
     "data": {
      "image/png": "[encoded data removed]",
      "text/plain": [
       "<Figure size 432x288 with 1 Axes>"
      ]
     },
     "metadata": {
      "needs_background": "light"
     },
     "output_type": "display_data"
    }
   ],
   "source": [
    "plt.plot(y_test_confirmed)\n",
    "plt.plot(test_linear_pred)\n",
    "plt.legend(['Test Data', 'Polynomial Regression Predictions'])"
   ]
  },
  {
   "cell_type": "markdown",
   "metadata": {},
   "source": [
    "## SAMPLE Screenshot for the deliverables: "
   ]
  },
  {
   "cell_type": "code",
   "execution_count": 96,
   "metadata": {},
   "outputs": [
    {
     "data": {
      "text/html": [
       "<div>\n",
       "<style scoped>\n",
       "    .dataframe tbody tr th:only-of-type {\n",
       "        vertical-align: middle;\n",
       "    }\n",
       "\n",
       "    .dataframe tbody tr th {\n",
       "        vertical-align: top;\n",
       "    }\n",
       "\n",
       "    .dataframe thead th {\n",
       "        text-align: right;\n",
       "    }\n",
       "</style>\n",
       "<table border=\"1\" class=\"dataframe\">\n",
       "  <thead>\n",
       "    <tr style=\"text-align: right;\">\n",
       "      <th></th>\n",
       "      <th>Date</th>\n",
       "      <th>Polynomial Predicted # of Confirmed Cases Worldwide</th>\n",
       "    </tr>\n",
       "  </thead>\n",
       "  <tbody>\n",
       "    <tr>\n",
       "      <th>0</th>\n",
       "      <td>05/14/2020</td>\n",
       "      <td>5552365.0</td>\n",
       "    </tr>\n",
       "    <tr>\n",
       "      <th>1</th>\n",
       "      <td>05/15/2020</td>\n",
       "      <td>5725200.0</td>\n",
       "    </tr>\n",
       "    <tr>\n",
       "      <th>2</th>\n",
       "      <td>05/16/2020</td>\n",
       "      <td>5901533.0</td>\n",
       "    </tr>\n",
       "    <tr>\n",
       "      <th>3</th>\n",
       "      <td>05/17/2020</td>\n",
       "      <td>6081401.0</td>\n",
       "    </tr>\n",
       "    <tr>\n",
       "      <th>4</th>\n",
       "      <td>05/18/2020</td>\n",
       "      <td>6264837.0</td>\n",
       "    </tr>\n",
       "    <tr>\n",
       "      <th>5</th>\n",
       "      <td>05/19/2020</td>\n",
       "      <td>6451876.0</td>\n",
       "    </tr>\n",
       "    <tr>\n",
       "      <th>6</th>\n",
       "      <td>05/20/2020</td>\n",
       "      <td>6642552.0</td>\n",
       "    </tr>\n",
       "    <tr>\n",
       "      <th>7</th>\n",
       "      <td>05/21/2020</td>\n",
       "      <td>6836901.0</td>\n",
       "    </tr>\n",
       "    <tr>\n",
       "      <th>8</th>\n",
       "      <td>05/22/2020</td>\n",
       "      <td>7034955.0</td>\n",
       "    </tr>\n",
       "    <tr>\n",
       "      <th>9</th>\n",
       "      <td>05/23/2020</td>\n",
       "      <td>7236751.0</td>\n",
       "    </tr>\n",
       "  </tbody>\n",
       "</table>\n",
       "</div>"
      ],
      "text/plain": [
       "         Date  Polynomial Predicted # of Confirmed Cases Worldwide\n",
       "0  05/14/2020                                          5552365.0  \n",
       "1  05/15/2020                                          5725200.0  \n",
       "2  05/16/2020                                          5901533.0  \n",
       "3  05/17/2020                                          6081401.0  \n",
       "4  05/18/2020                                          6264837.0  \n",
       "5  05/19/2020                                          6451876.0  \n",
       "6  05/20/2020                                          6642552.0  \n",
       "7  05/21/2020                                          6836901.0  \n",
       "8  05/22/2020                                          7034955.0  \n",
       "9  05/23/2020                                          7236751.0  "
      ]
     },
     "execution_count": 96,
     "metadata": {},
     "output_type": "execute_result"
    }
   ],
   "source": [
    "# Future predictions using polynomial regression\n",
    "prediction = prediction.reshape(1,-1)[0]\n",
    "pd.DataFrame({'Date': future_forecast_dates[-10:], 'Polynomial Predicted # of Confirmed Cases Worldwide': np.round(prediction[-10:])})"
   ]
  },
  {
   "cell_type": "code",
   "execution_count": 97,
   "metadata": {},
   "outputs": [],
   "source": [
    "def plot_predictions(x, y, pred, algo_name, color):\n",
    "    plt.figure(figsize=(16, 10))\n",
    "    plt.plot(x, y, linewidth=4)\n",
    "    plt.plot(future_forecast, pred, linestyle='dashed', color=color)\n",
    "    plt.title('# of Coronavirus Cases Over Time', size=28)\n",
    "    plt.xlabel('Days Since 1/22/2020', size=20)\n",
    "    plt.ylabel('# of Cases', size=20)\n",
    "    plt.legend(['Confirmed Cases', algo_name], prop={'size': 20})\n",
    "    plt.xticks(size=20)\n",
    "    plt.yticks(size=20)\n",
    "    plt.show()"
   ]
  },
  {
   "cell_type": "code",
   "execution_count": 98,
   "metadata": {},
   "outputs": [
    {
     "data": {
      "image/png": "[encoded data removed]",
      "text/plain": [
       "<Figure size 1152x720 with 1 Axes>"
      ]
     },
     "metadata": {
      "needs_background": "light"
     },
     "output_type": "display_data"
    }
   ],
   "source": [
    "plot_predictions(adjusted_dates, world_cases, prediction, 'Polynomial Regression Predictions', 'red')"
   ]
  },
  {
   "cell_type": "markdown",
   "metadata": {},
   "source": [
    "## DEMO 2: SVM Regression \n",
    "\n",
    "(https://scikit-learn.org/stable/modules/generated/sklearn.svm.SVR.html)"
   ]
  },
  {
   "cell_type": "code",
   "execution_count": 99,
   "metadata": {},
   "outputs": [],
   "source": [
    "# 1. Choose model\n",
    "model = SVR(shrinking=True, kernel='poly',gamma=0.01, epsilon=1,degree=5, C=0.1)\n",
    "\n",
    "# 2. Train\n",
    "model.fit(X_train_confirmed, y_train_confirmed.ravel())\n",
    "\n",
    "# 3. Test\n",
    "test_pred = model.predict(X_test_confirmed)\n",
    "\n",
    "# 4. Predict\n",
    "svm_prediction = model.predict(future_forecast)"
   ]
  },
  {
   "cell_type": "code",
   "execution_count": 100,
   "metadata": {},
   "outputs": [
    {
     "name": "stdout",
     "output_type": "stream",
     "text": [
      "MAE: 1884110.2645638108\n",
      "MSE: 3950072650875.4517\n"
     ]
    }
   ],
   "source": [
    "print('MAE:', mean_absolute_error(test_pred, y_test_confirmed))\n",
    "print('MSE:', mean_squared_error(test_pred, y_test_confirmed))"
   ]
  },
  {
   "cell_type": "code",
   "execution_count": 101,
   "metadata": {},
   "outputs": [
    {
     "data": {
      "text/plain": [
       "<matplotlib.legend.Legend at 0x7f8ee842be90>"
      ]
     },
     "execution_count": 101,
     "metadata": {},
     "output_type": "execute_result"
    },
    {
     "data": {
      "image/png": "[encoded data removed]",
      "text/plain": [
       "<Figure size 432x288 with 1 Axes>"
      ]
     },
     "metadata": {
      "needs_background": "light"
     },
     "output_type": "display_data"
    }
   ],
   "source": [
    "plt.plot(y_test_confirmed)\n",
    "plt.plot(test_pred)\n",
    "plt.legend(['Test Data', 'SVM Predictions'])"
   ]
  },
  {
   "cell_type": "markdown",
   "metadata": {},
   "source": [
    "## SAMPLE Screenshot for the deliverables: "
   ]
  },
  {
   "cell_type": "code",
   "execution_count": 102,
   "metadata": {},
   "outputs": [
    {
     "data": {
      "text/html": [
       "<div>\n",
       "<style scoped>\n",
       "    .dataframe tbody tr th:only-of-type {\n",
       "        vertical-align: middle;\n",
       "    }\n",
       "\n",
       "    .dataframe tbody tr th {\n",
       "        vertical-align: top;\n",
       "    }\n",
       "\n",
       "    .dataframe thead th {\n",
       "        text-align: right;\n",
       "    }\n",
       "</style>\n",
       "<table border=\"1\" class=\"dataframe\">\n",
       "  <thead>\n",
       "    <tr style=\"text-align: right;\">\n",
       "      <th></th>\n",
       "      <th>Date</th>\n",
       "      <th>SVM Predicted # of Confirmed Cases Worldwide</th>\n",
       "    </tr>\n",
       "  </thead>\n",
       "  <tbody>\n",
       "    <tr>\n",
       "      <th>0</th>\n",
       "      <td>05/14/2020</td>\n",
       "      <td>7664258.0</td>\n",
       "    </tr>\n",
       "    <tr>\n",
       "      <th>1</th>\n",
       "      <td>05/15/2020</td>\n",
       "      <td>8007482.0</td>\n",
       "    </tr>\n",
       "    <tr>\n",
       "      <th>2</th>\n",
       "      <td>05/16/2020</td>\n",
       "      <td>8362963.0</td>\n",
       "    </tr>\n",
       "    <tr>\n",
       "      <th>3</th>\n",
       "      <td>05/17/2020</td>\n",
       "      <td>8731025.0</td>\n",
       "    </tr>\n",
       "    <tr>\n",
       "      <th>4</th>\n",
       "      <td>05/18/2020</td>\n",
       "      <td>9112001.0</td>\n",
       "    </tr>\n",
       "    <tr>\n",
       "      <th>5</th>\n",
       "      <td>05/19/2020</td>\n",
       "      <td>9506226.0</td>\n",
       "    </tr>\n",
       "    <tr>\n",
       "      <th>6</th>\n",
       "      <td>05/20/2020</td>\n",
       "      <td>9914044.0</td>\n",
       "    </tr>\n",
       "    <tr>\n",
       "      <th>7</th>\n",
       "      <td>05/21/2020</td>\n",
       "      <td>10335802.0</td>\n",
       "    </tr>\n",
       "    <tr>\n",
       "      <th>8</th>\n",
       "      <td>05/22/2020</td>\n",
       "      <td>10771857.0</td>\n",
       "    </tr>\n",
       "    <tr>\n",
       "      <th>9</th>\n",
       "      <td>05/23/2020</td>\n",
       "      <td>11222566.0</td>\n",
       "    </tr>\n",
       "  </tbody>\n",
       "</table>\n",
       "</div>"
      ],
      "text/plain": [
       "         Date  SVM Predicted # of Confirmed Cases Worldwide\n",
       "0  05/14/2020                                     7664258.0\n",
       "1  05/15/2020                                     8007482.0\n",
       "2  05/16/2020                                     8362963.0\n",
       "3  05/17/2020                                     8731025.0\n",
       "4  05/18/2020                                     9112001.0\n",
       "5  05/19/2020                                     9506226.0\n",
       "6  05/20/2020                                     9914044.0\n",
       "7  05/21/2020                                    10335802.0\n",
       "8  05/22/2020                                    10771857.0\n",
       "9  05/23/2020                                    11222566.0"
      ]
     },
     "execution_count": 102,
     "metadata": {},
     "output_type": "execute_result"
    }
   ],
   "source": [
    "pd.DataFrame({'Date': future_forecast_dates[-10:], 'SVM Predicted # of Confirmed Cases Worldwide': np.round(svm_prediction[-10:])})"
   ]
  },
  {
   "cell_type": "code",
   "execution_count": 103,
   "metadata": {},
   "outputs": [
    {
     "data": {
      "image/png": "[encoded data removed]",
      "text/plain": [
       "<Figure size 1152x720 with 1 Axes>"
      ]
     },
     "metadata": {
      "needs_background": "light"
     },
     "output_type": "display_data"
    }
   ],
   "source": [
    "plot_predictions(adjusted_dates, world_cases, svm_prediction, 'SVM Predictions', 'red')"
   ]
  },
  {
   "cell_type": "markdown",
   "metadata": {},
   "source": [
    "## DEMO 3: MLP Regression \n",
    "\n",
    "(https://scikit-learn.org/stable/modules/generated/sklearn.neural_network.MLPRegressor.html)"
   ]
  },
  {
   "cell_type": "code",
   "execution_count": 104,
   "metadata": {
    "scrolled": true
   },
   "outputs": [
    {
     "name": "stderr",
     "output_type": "stream",
     "text": [
      "/home/cobalt/anaconda3/lib/python3.7/site-packages/sklearn/neural_network/_multilayer_perceptron.py:571: ConvergenceWarning: Stochastic Optimizer: Maximum iterations (200) reached and the optimization hasn't converged yet.\n",
      "  % self.max_iter, ConvergenceWarning)\n"
     ]
    }
   ],
   "source": [
    "from sklearn.neural_network import MLPRegressor\n",
    "\n",
    "# 1. Choose model\n",
    "model = MLPRegressor()\n",
    "\n",
    "'''\n",
    "MLPRegressor Default values:\n",
    "\n",
    "MLPRegressor(hidden_layer_sizes=(100, ), activation='relu', solver='adam', alpha=0.0001, \n",
    "batch_size='auto', learning_rate='constant', learning_rate_init=0.001, power_t=0.5, \n",
    "max_iter=200, shuffle=True, random_state=None, tol=0.0001, verbose=False, warm_start=False,\n",
    "momentum=0.9, nesterovs_momentum=True, early_stopping=False, validation_fraction=0.1, \n",
    "beta_1=0.9, beta_2=0.999, epsilon=1e-08, n_iter_no_change=10, max_fun=15000)\n",
    "\n",
    "https://scikit-learn.org/stable/modules/generated/sklearn.neural_network.MLPRegressor.html \n",
    "'''\n",
    "\n",
    "# 2. Train\n",
    "model.fit(X_train_confirmed, y_train_confirmed.ravel())\n",
    "\n",
    "# 3. Test\n",
    "test_pred = model.predict(X_test_confirmed)\n",
    "\n",
    "# 4. Predict\n",
    "mlp_prediction = model.predict(future_forecast)"
   ]
  },
  {
   "cell_type": "code",
   "execution_count": 105,
   "metadata": {},
   "outputs": [
    {
     "name": "stdout",
     "output_type": "stream",
     "text": [
      "MAE: 3885458.324373442\n",
      "MSE: 15181869707866.984\n"
     ]
    }
   ],
   "source": [
    "print('MAE:', mean_absolute_error(test_pred, y_test_confirmed))\n",
    "print('MSE:', mean_squared_error(test_pred, y_test_confirmed))"
   ]
  },
  {
   "cell_type": "code",
   "execution_count": 106,
   "metadata": {},
   "outputs": [
    {
     "data": {
      "text/plain": [
       "<matplotlib.legend.Legend at 0x7f8ee9e509d0>"
      ]
     },
     "execution_count": 106,
     "metadata": {},
     "output_type": "execute_result"
    },
    {
     "data": {
      "image/png": "[encoded data removed]",
      "text/plain": [
       "<Figure size 432x288 with 1 Axes>"
      ]
     },
     "metadata": {
      "needs_background": "light"
     },
     "output_type": "display_data"
    }
   ],
   "source": [
    "plt.plot(y_test_confirmed)\n",
    "plt.plot(test_pred)\n",
    "plt.legend(['Test Data', 'MLP Predictions'])"
   ]
  },
  {
   "cell_type": "code",
   "execution_count": 107,
   "metadata": {},
   "outputs": [
    {
     "data": {
      "text/html": [
       "<div>\n",
       "<style scoped>\n",
       "    .dataframe tbody tr th:only-of-type {\n",
       "        vertical-align: middle;\n",
       "    }\n",
       "\n",
       "    .dataframe tbody tr th {\n",
       "        vertical-align: top;\n",
       "    }\n",
       "\n",
       "    .dataframe thead th {\n",
       "        text-align: right;\n",
       "    }\n",
       "</style>\n",
       "<table border=\"1\" class=\"dataframe\">\n",
       "  <thead>\n",
       "    <tr style=\"text-align: right;\">\n",
       "      <th></th>\n",
       "      <th>Date</th>\n",
       "      <th>MLP Predicted # of Confirmed Cases Worldwide</th>\n",
       "    </tr>\n",
       "  </thead>\n",
       "  <tbody>\n",
       "    <tr>\n",
       "      <th>0</th>\n",
       "      <td>05/14/2020</td>\n",
       "      <td>564.0</td>\n",
       "    </tr>\n",
       "    <tr>\n",
       "      <th>1</th>\n",
       "      <td>05/15/2020</td>\n",
       "      <td>569.0</td>\n",
       "    </tr>\n",
       "    <tr>\n",
       "      <th>2</th>\n",
       "      <td>05/16/2020</td>\n",
       "      <td>574.0</td>\n",
       "    </tr>\n",
       "    <tr>\n",
       "      <th>3</th>\n",
       "      <td>05/17/2020</td>\n",
       "      <td>579.0</td>\n",
       "    </tr>\n",
       "    <tr>\n",
       "      <th>4</th>\n",
       "      <td>05/18/2020</td>\n",
       "      <td>584.0</td>\n",
       "    </tr>\n",
       "    <tr>\n",
       "      <th>5</th>\n",
       "      <td>05/19/2020</td>\n",
       "      <td>589.0</td>\n",
       "    </tr>\n",
       "    <tr>\n",
       "      <th>6</th>\n",
       "      <td>05/20/2020</td>\n",
       "      <td>594.0</td>\n",
       "    </tr>\n",
       "    <tr>\n",
       "      <th>7</th>\n",
       "      <td>05/21/2020</td>\n",
       "      <td>599.0</td>\n",
       "    </tr>\n",
       "    <tr>\n",
       "      <th>8</th>\n",
       "      <td>05/22/2020</td>\n",
       "      <td>604.0</td>\n",
       "    </tr>\n",
       "    <tr>\n",
       "      <th>9</th>\n",
       "      <td>05/23/2020</td>\n",
       "      <td>609.0</td>\n",
       "    </tr>\n",
       "  </tbody>\n",
       "</table>\n",
       "</div>"
      ],
      "text/plain": [
       "         Date  MLP Predicted # of Confirmed Cases Worldwide\n",
       "0  05/14/2020                                         564.0\n",
       "1  05/15/2020                                         569.0\n",
       "2  05/16/2020                                         574.0\n",
       "3  05/17/2020                                         579.0\n",
       "4  05/18/2020                                         584.0\n",
       "5  05/19/2020                                         589.0\n",
       "6  05/20/2020                                         594.0\n",
       "7  05/21/2020                                         599.0\n",
       "8  05/22/2020                                         604.0\n",
       "9  05/23/2020                                         609.0"
      ]
     },
     "execution_count": 107,
     "metadata": {},
     "output_type": "execute_result"
    }
   ],
   "source": [
    "pd.DataFrame({'Date': future_forecast_dates[-10:], 'MLP Predicted # of Confirmed Cases Worldwide': np.round(mlp_prediction[-10:])})"
   ]
  },
  {
   "cell_type": "code",
   "execution_count": 108,
   "metadata": {},
   "outputs": [
    {
     "data": {
      "image/png": "[encoded data removed]",
      "text/plain": [
       "<Figure size 1152x720 with 1 Axes>"
      ]
     },
     "metadata": {
      "needs_background": "light"
     },
     "output_type": "display_data"
    }
   ],
   "source": [
    "plot_predictions(adjusted_dates, world_cases, mlp_prediction, 'MLP Predictions', 'red')"
   ]
  },
  {
   "cell_type": "markdown",
   "metadata": {},
   "source": [
    "NOTE: The default MLP regressor was not able to converge into a workable solution."
   ]
  },
  {
   "cell_type": "markdown",
   "metadata": {},
   "source": [
    "## Custom Regressor"
   ]
  },
  {
   "cell_type": "code",
   "execution_count": 109,
   "metadata": {},
   "outputs": [
    {
     "name": "stdout",
     "output_type": "stream",
     "text": [
      "MAE: 15963.861839783378\n",
      "MSE: 339695789.74024916\n"
     ]
    },
    {
     "data": {
      "text/plain": [
       "<matplotlib.legend.Legend at 0x7f8eea45af10>"
      ]
     },
     "execution_count": 109,
     "metadata": {},
     "output_type": "execute_result"
    },
    {
     "data": {
      "image/png": "[encoded data removed]",
      "text/plain": [
       "<Figure size 432x288 with 1 Axes>"
      ]
     },
     "metadata": {
      "needs_background": "light"
     },
     "output_type": "display_data"
    }
   ],
   "source": [
    "# 1. Model Selection \n",
    "\n",
    "# model = MLPRegressor(solver='lbfgs', hidden_layer_sizes=50, max_iter=1000)\n",
    "\n",
    "# model = MLPRegressor(solver='lbfgs', hidden_layer_sizes=60, max_iter=1000,\n",
    "#                     learning_rate='adaptive', random_state=np.random.seed(23))\n",
    "# model = MLPRegressor(solver='lbfgs', hidden_layer_sizes=45, max_iter=2000,\n",
    "#                     random_state=np.random.seed(23))\n",
    "\n",
    "\n",
    "# Please do your readings on these parameters\n",
    "\n",
    "model = MLPRegressor(solver='lbfgs', hidden_layer_sizes=50, max_iter=1000,\n",
    "                    learning_rate='adaptive', random_state=np.random.seed(23))\n",
    "\n",
    "# 2. Train\n",
    "model.fit(X_train_confirmed, y_train_confirmed.ravel())\n",
    "\n",
    "# 3. Test\n",
    "test_pred = model.predict(X_test_confirmed)\n",
    "\n",
    "# 4. Predict\n",
    "mlp_prediction = model.predict(future_forecast)\n",
    "\n",
    "print('MAE:', mean_absolute_error(test_pred, y_test_confirmed))\n",
    "print('MSE:', mean_squared_error(test_pred, y_test_confirmed))\n",
    "\n",
    "plt.plot(y_test_confirmed)\n",
    "plt.plot(test_pred)\n",
    "plt.legend(['Test Data', 'MLP Predictions'])"
   ]
  },
  {
   "cell_type": "code",
   "execution_count": 110,
   "metadata": {},
   "outputs": [
    {
     "data": {
      "text/html": [
       "<div>\n",
       "<style scoped>\n",
       "    .dataframe tbody tr th:only-of-type {\n",
       "        vertical-align: middle;\n",
       "    }\n",
       "\n",
       "    .dataframe tbody tr th {\n",
       "        vertical-align: top;\n",
       "    }\n",
       "\n",
       "    .dataframe thead th {\n",
       "        text-align: right;\n",
       "    }\n",
       "</style>\n",
       "<table border=\"1\" class=\"dataframe\">\n",
       "  <thead>\n",
       "    <tr style=\"text-align: right;\">\n",
       "      <th></th>\n",
       "      <th>Date</th>\n",
       "      <th>MLP Predicted # of Confirmed Cases Worldwide</th>\n",
       "    </tr>\n",
       "  </thead>\n",
       "  <tbody>\n",
       "    <tr>\n",
       "      <th>0</th>\n",
       "      <td>05/14/2020</td>\n",
       "      <td>4399163.0</td>\n",
       "    </tr>\n",
       "    <tr>\n",
       "      <th>1</th>\n",
       "      <td>05/15/2020</td>\n",
       "      <td>4479754.0</td>\n",
       "    </tr>\n",
       "    <tr>\n",
       "      <th>2</th>\n",
       "      <td>05/16/2020</td>\n",
       "      <td>4560346.0</td>\n",
       "    </tr>\n",
       "    <tr>\n",
       "      <th>3</th>\n",
       "      <td>05/17/2020</td>\n",
       "      <td>4640938.0</td>\n",
       "    </tr>\n",
       "    <tr>\n",
       "      <th>4</th>\n",
       "      <td>05/18/2020</td>\n",
       "      <td>4721529.0</td>\n",
       "    </tr>\n",
       "    <tr>\n",
       "      <th>5</th>\n",
       "      <td>05/19/2020</td>\n",
       "      <td>4802121.0</td>\n",
       "    </tr>\n",
       "    <tr>\n",
       "      <th>6</th>\n",
       "      <td>05/20/2020</td>\n",
       "      <td>4882712.0</td>\n",
       "    </tr>\n",
       "    <tr>\n",
       "      <th>7</th>\n",
       "      <td>05/21/2020</td>\n",
       "      <td>4963304.0</td>\n",
       "    </tr>\n",
       "    <tr>\n",
       "      <th>8</th>\n",
       "      <td>05/22/2020</td>\n",
       "      <td>5043895.0</td>\n",
       "    </tr>\n",
       "    <tr>\n",
       "      <th>9</th>\n",
       "      <td>05/23/2020</td>\n",
       "      <td>5124487.0</td>\n",
       "    </tr>\n",
       "  </tbody>\n",
       "</table>\n",
       "</div>"
      ],
      "text/plain": [
       "         Date  MLP Predicted # of Confirmed Cases Worldwide\n",
       "0  05/14/2020                                     4399163.0\n",
       "1  05/15/2020                                     4479754.0\n",
       "2  05/16/2020                                     4560346.0\n",
       "3  05/17/2020                                     4640938.0\n",
       "4  05/18/2020                                     4721529.0\n",
       "5  05/19/2020                                     4802121.0\n",
       "6  05/20/2020                                     4882712.0\n",
       "7  05/21/2020                                     4963304.0\n",
       "8  05/22/2020                                     5043895.0\n",
       "9  05/23/2020                                     5124487.0"
      ]
     },
     "execution_count": 110,
     "metadata": {},
     "output_type": "execute_result"
    }
   ],
   "source": [
    "pd.DataFrame({'Date': future_forecast_dates[-10:], 'MLP Predicted # of Confirmed Cases Worldwide': np.round(mlp_prediction[-10:])})"
   ]
  },
  {
   "cell_type": "code",
   "execution_count": 111,
   "metadata": {},
   "outputs": [
    {
     "data": {
      "image/png": "[encoded data removed]",
      "text/plain": [
       "<Figure size 1152x720 with 1 Axes>"
      ]
     },
     "metadata": {
      "needs_background": "light"
     },
     "output_type": "display_data"
    }
   ],
   "source": [
    "plot_predictions(adjusted_dates, world_cases, mlp_prediction, 'MLP Predictions', 'red')"
   ]
  },
  {
   "cell_type": "markdown",
   "metadata": {},
   "source": [
    "mkc-2020"
   ]
  }
 ],
 "metadata": {
  "kernelspec": {
   "display_name": "Python 3",
   "language": "python",
   "name": "python3"
  },
  "language_info": {
   "codemirror_mode": {
    "name": "ipython",
    "version": 3
   },
   "file_extension": ".py",
   "mimetype": "text/x-python",
   "name": "python",
   "nbconvert_exporter": "python",
   "pygments_lexer": "ipython3",
   "version": "3.7.6"
  }
 },
 "nbformat": 4,
 "nbformat_minor": 4
}
